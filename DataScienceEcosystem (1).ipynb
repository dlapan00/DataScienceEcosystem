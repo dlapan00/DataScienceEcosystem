{
 "cells": [
  {
   "cell_type": "markdown",
   "id": "1169678e-3df3-4d89-9711-1a5935e7553d",
   "metadata": {
    "tags": []
   },
   "source": [
    "# Data Science Tools and Ecosystem"
   ]
  },
  {
   "cell_type": "markdown",
   "id": "19c0ff7b-ee3e-4dbf-901c-88eaca08b12c",
   "metadata": {
    "tags": []
   },
   "source": [
    "## Author:\n",
    "    Drake LaPan"
   ]
  },
  {
   "cell_type": "markdown",
   "id": "f93093c3-8c23-48f9-b169-cbd18e7266b3",
   "metadata": {},
   "source": [
    "**Objectives:** \n",
    "+ List popular languages for Data Science\n",
    "+ List commonly used libraries for Data Scientists\n",
    "+ Evaluate arithmetic expressions in Python"
   ]
  },
  {
   "cell_type": "markdown",
   "id": "7486c5cf-b2ed-4f9c-ba07-3f4b9582d7f7",
   "metadata": {
    "tags": []
   },
   "source": [
    "**Introduction**: In this notebook, Data Science Tools and Ecosystem are summarized"
   ]
  },
  {
   "cell_type": "markdown",
   "id": "097474ff-5ae8-4576-8c40-b88125993320",
   "metadata": {
    "tags": []
   },
   "source": [
    "**Overview:** Some of the popular languages that Data Scientists use are:\n",
    "1. Python\n",
    "2. R\n",
    "3. Java\n",
    "4. C++"
   ]
  },
  {
   "cell_type": "markdown",
   "id": "d7d9f751-9161-49d7-9b58-d7a8645501da",
   "metadata": {},
   "source": [
    "**Overview:** Some of the commonly used libraries used by Data Scientists include:\n",
    "1. Numpy\n",
    "2. caret\n",
    "3. ggplot2\n",
    "4. Seaborn"
   ]
  },
  {
   "cell_type": "markdown",
   "id": "4997a0f2-7ac8-4cdf-af9e-b88325c8d76f",
   "metadata": {
    "tags": []
   },
   "source": [
    "|Data Science Tools|\n",
    "----\n",
    "|Jupyter Notebook|\n",
    "|RStudio|\n",
    "|Visual Studio Code|"
   ]
  },
  {
   "cell_type": "markdown",
   "id": "9f952c82-d888-4029-bc6a-5595147df656",
   "metadata": {},
   "source": [
    "### Below are a few examples of evaluating arithmetic expressions in Python"
   ]
  },
  {
   "cell_type": "code",
   "execution_count": 18,
   "id": "a413c274-dcac-4b1e-9d16-581c8dd0d414",
   "metadata": {
    "tags": []
   },
   "outputs": [
    {
     "data": {
      "text/plain": [
       "17"
      ]
     },
     "execution_count": 18,
     "metadata": {},
     "output_type": "execute_result"
    }
   ],
   "source": [
    "# This a simple arithmetic expression to multiply then add integers\n",
    "(3*4)+5\n"
   ]
  },
  {
   "cell_type": "code",
   "execution_count": 23,
   "id": "6c9fcabd-a293-4e2b-b718-6e1ee39df98f",
   "metadata": {
    "tags": []
   },
   "outputs": [
    {
     "data": {
      "text/plain": [
       "3.3333333333333335"
      ]
     },
     "execution_count": 23,
     "metadata": {},
     "output_type": "execute_result"
    }
   ],
   "source": [
    "# This will convert 200 minutes to hours by dividing by 60\n",
    "200/60"
   ]
  }
 ],
 "metadata": {
  "kernelspec": {
   "display_name": "Python",
   "language": "python",
   "name": "conda-env-python-py"
  },
  "language_info": {
   "codemirror_mode": {
    "name": "ipython",
    "version": 3
   },
   "file_extension": ".py",
   "mimetype": "text/x-python",
   "name": "python",
   "nbconvert_exporter": "python",
   "pygments_lexer": "ipython3",
   "version": "3.7.12"
  }
 },
 "nbformat": 4,
 "nbformat_minor": 5
}
